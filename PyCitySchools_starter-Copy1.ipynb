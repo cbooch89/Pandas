{
 "cells": [
  {
   "cell_type": "markdown",
   "metadata": {},
   "source": [
    "# PyCity Schools Analysis\n",
    "\n",
    "* As a whole, schools with higher budgets, did not yield better test results. By contrast, schools with higher spending per student actually (\\$645-675) underperformed compared to schools with smaller budgets (<\\$585 per student).\n",
    "\n",
    "* As a whole, smaller and medium sized schools dramatically out-performed large sized schools on passing math performances (89-91% passing vs 67%).\n",
    "\n",
    "* As a whole, charter schools out-performed the public district schools across all metrics. However, more analysis will be required to glean if the effect is due to school practices or the fact that charter schools tend to serve smaller student populations per school. \n",
    "---"
   ]
  },
  {
   "cell_type": "markdown",
   "metadata": {},
   "source": [
    "### Note\n",
    "* Instructions have been included for each segment. You do not have to follow them exactly, but they are included to help you think through the steps."
   ]
  },
  {
   "cell_type": "code",
   "execution_count": 57,
   "metadata": {},
   "outputs": [
    {
     "data": {
      "text/html": [
       "<div>\n",
       "<style scoped>\n",
       "    .dataframe tbody tr th:only-of-type {\n",
       "        vertical-align: middle;\n",
       "    }\n",
       "\n",
       "    .dataframe tbody tr th {\n",
       "        vertical-align: top;\n",
       "    }\n",
       "\n",
       "    .dataframe thead th {\n",
       "        text-align: right;\n",
       "    }\n",
       "</style>\n",
       "<table border=\"1\" class=\"dataframe\">\n",
       "  <thead>\n",
       "    <tr style=\"text-align: right;\">\n",
       "      <th></th>\n",
       "      <th>Student ID</th>\n",
       "      <th>student_name</th>\n",
       "      <th>gender</th>\n",
       "      <th>grade</th>\n",
       "      <th>school_name</th>\n",
       "      <th>reading_score</th>\n",
       "      <th>math_score</th>\n",
       "      <th>School ID</th>\n",
       "      <th>type</th>\n",
       "      <th>size</th>\n",
       "      <th>budget</th>\n",
       "    </tr>\n",
       "  </thead>\n",
       "  <tbody>\n",
       "    <tr>\n",
       "      <th>0</th>\n",
       "      <td>0</td>\n",
       "      <td>Paul Bradley</td>\n",
       "      <td>M</td>\n",
       "      <td>9th</td>\n",
       "      <td>Huang High School</td>\n",
       "      <td>66</td>\n",
       "      <td>79</td>\n",
       "      <td>0</td>\n",
       "      <td>District</td>\n",
       "      <td>2917</td>\n",
       "      <td>1910635</td>\n",
       "    </tr>\n",
       "    <tr>\n",
       "      <th>1</th>\n",
       "      <td>1</td>\n",
       "      <td>Victor Smith</td>\n",
       "      <td>M</td>\n",
       "      <td>12th</td>\n",
       "      <td>Huang High School</td>\n",
       "      <td>94</td>\n",
       "      <td>61</td>\n",
       "      <td>0</td>\n",
       "      <td>District</td>\n",
       "      <td>2917</td>\n",
       "      <td>1910635</td>\n",
       "    </tr>\n",
       "    <tr>\n",
       "      <th>2</th>\n",
       "      <td>2</td>\n",
       "      <td>Kevin Rodriguez</td>\n",
       "      <td>M</td>\n",
       "      <td>12th</td>\n",
       "      <td>Huang High School</td>\n",
       "      <td>90</td>\n",
       "      <td>60</td>\n",
       "      <td>0</td>\n",
       "      <td>District</td>\n",
       "      <td>2917</td>\n",
       "      <td>1910635</td>\n",
       "    </tr>\n",
       "    <tr>\n",
       "      <th>3</th>\n",
       "      <td>3</td>\n",
       "      <td>Dr. Richard Scott</td>\n",
       "      <td>M</td>\n",
       "      <td>12th</td>\n",
       "      <td>Huang High School</td>\n",
       "      <td>67</td>\n",
       "      <td>58</td>\n",
       "      <td>0</td>\n",
       "      <td>District</td>\n",
       "      <td>2917</td>\n",
       "      <td>1910635</td>\n",
       "    </tr>\n",
       "    <tr>\n",
       "      <th>4</th>\n",
       "      <td>4</td>\n",
       "      <td>Bonnie Ray</td>\n",
       "      <td>F</td>\n",
       "      <td>9th</td>\n",
       "      <td>Huang High School</td>\n",
       "      <td>97</td>\n",
       "      <td>84</td>\n",
       "      <td>0</td>\n",
       "      <td>District</td>\n",
       "      <td>2917</td>\n",
       "      <td>1910635</td>\n",
       "    </tr>\n",
       "  </tbody>\n",
       "</table>\n",
       "</div>"
      ],
      "text/plain": [
       "   Student ID       student_name gender grade        school_name  \\\n",
       "0           0       Paul Bradley      M   9th  Huang High School   \n",
       "1           1       Victor Smith      M  12th  Huang High School   \n",
       "2           2    Kevin Rodriguez      M  12th  Huang High School   \n",
       "3           3  Dr. Richard Scott      M  12th  Huang High School   \n",
       "4           4         Bonnie Ray      F   9th  Huang High School   \n",
       "\n",
       "   reading_score  math_score  School ID      type  size   budget  \n",
       "0             66          79          0  District  2917  1910635  \n",
       "1             94          61          0  District  2917  1910635  \n",
       "2             90          60          0  District  2917  1910635  \n",
       "3             67          58          0  District  2917  1910635  \n",
       "4             97          84          0  District  2917  1910635  "
      ]
     },
     "execution_count": 57,
     "metadata": {},
     "output_type": "execute_result"
    }
   ],
   "source": [
    "# Dependencies and Setup\n",
    "import pandas as pd\n",
    "import numpy as np\n",
    "\n",
    "# File to Load\n",
    "school = \"Resources/schools_complete.csv\"\n",
    "student = \"Resources/students_complete.csv\"\n",
    "\n",
    "# Read School and Student Data File and store into Pandas Data Frames\n",
    "school_data = pd.read_csv(school)\n",
    "student_data = pd.read_csv(student)\n",
    "\n",
    "# Combine the data into a single dataset\n",
    "city_schools = pd.merge(student_data, school_data, how=\"left\", on=[\"school_name\", \"school_name\"])\n",
    "city_schools.head()"
   ]
  },
  {
   "cell_type": "markdown",
   "metadata": {},
   "source": [
    "## District Summary\n",
    "\n",
    "* Calculate the total number of schools\n",
    "\n",
    "* Calculate the total number of students\n",
    "\n",
    "* Calculate the total budget\n",
    "\n",
    "* Calculate the average math score \n",
    "\n",
    "* Calculate the average reading score\n",
    "\n",
    "* Calculate the overall passing rate (overall average score), i.e. (avg. math score + avg. reading score)/2\n",
    "\n",
    "* Calculate the percentage of students with a passing math score (70 or greater)\n",
    "\n",
    "* Calculate the percentage of students with a passing reading score (70 or greater)\n",
    "\n",
    "* Create a dataframe to hold the above results\n",
    "\n",
    "* Optional: give the displayed data cleaner formatting"
   ]
  },
  {
   "cell_type": "code",
   "execution_count": 58,
   "metadata": {},
   "outputs": [
    {
     "data": {
      "text/plain": [
       "Student ID        int64\n",
       "student_name     object\n",
       "gender           object\n",
       "grade            object\n",
       "school_name      object\n",
       "reading_score     int64\n",
       "math_score        int64\n",
       "School ID         int64\n",
       "type             object\n",
       "size              int64\n",
       "budget            int64\n",
       "dtype: object"
      ]
     },
     "execution_count": 58,
     "metadata": {},
     "output_type": "execute_result"
    }
   ],
   "source": [
    "city_schools.dtypes"
   ]
  },
  {
   "cell_type": "code",
   "execution_count": 59,
   "metadata": {},
   "outputs": [
    {
     "name": "stdout",
     "output_type": "stream",
     "text": [
      "['Huang High School' 'Figueroa High School' 'Shelton High School'\n",
      " 'Hernandez High School' 'Griffin High School' 'Wilson High School'\n",
      " 'Cabrera High School' 'Bailey High School' 'Holden High School'\n",
      " 'Pena High School' 'Wright High School' 'Rodriguez High School'\n",
      " 'Johnson High School' 'Ford High School' 'Thomas High School']\n",
      "15\n"
     ]
    }
   ],
   "source": [
    "school_count = len(city_schools[\"school_name\"].unique())\n",
    "school_name= city_schools[\"school_name\"].unique()\n",
    "print (school_name)\n",
    "print (school_count)"
   ]
  },
  {
   "cell_type": "code",
   "execution_count": 60,
   "metadata": {},
   "outputs": [
    {
     "data": {
      "text/plain": [
       "32715"
      ]
     },
     "execution_count": 60,
     "metadata": {},
     "output_type": "execute_result"
    }
   ],
   "source": [
    "student_count = len(city_schools[\"student_name\"].unique())\n",
    "student_count"
   ]
  },
  {
   "cell_type": "code",
   "execution_count": 61,
   "metadata": {},
   "outputs": [
    {
     "data": {
      "text/plain": [
       "82932329558"
      ]
     },
     "execution_count": 61,
     "metadata": {},
     "output_type": "execute_result"
    }
   ],
   "source": [
    "budget_sum = (city_schools[\"budget\"].sum())\n",
    "budget_sum"
   ]
  },
  {
   "cell_type": "code",
   "execution_count": 62,
   "metadata": {},
   "outputs": [
    {
     "data": {
      "text/plain": [
       "78.98537145774827"
      ]
     },
     "execution_count": 62,
     "metadata": {},
     "output_type": "execute_result"
    }
   ],
   "source": [
    "math_sum = (city_schools[\"math_score\"].mean())\n",
    "math_sum"
   ]
  },
  {
   "cell_type": "code",
   "execution_count": 63,
   "metadata": {},
   "outputs": [
    {
     "data": {
      "text/plain": [
       "81.87784018381414"
      ]
     },
     "execution_count": 63,
     "metadata": {},
     "output_type": "execute_result"
    }
   ],
   "source": [
    "reading_sum = (city_schools[\"reading_score\"].mean())\n",
    "reading_sum"
   ]
  },
  {
   "cell_type": "code",
   "execution_count": 64,
   "metadata": {},
   "outputs": [
    {
     "data": {
      "text/plain": [
       "80.43160582078121"
      ]
     },
     "execution_count": 64,
     "metadata": {},
     "output_type": "execute_result"
    }
   ],
   "source": [
    "avg = (city_schools [\"math_score\"].mean() + city_schools[\"reading_score\"].mean()) / 2\n",
    "avg"
   ]
  },
  {
   "cell_type": "code",
   "execution_count": 65,
   "metadata": {},
   "outputs": [
    {
     "data": {
      "text/plain": [
       "86.67583677212288"
      ]
     },
     "execution_count": 65,
     "metadata": {},
     "output_type": "execute_result"
    }
   ],
   "source": [
    "#passing math score of 70<\n",
    "math_above = ((len(city_schools.loc[city_schools[\"math_score\"] > 70])) / student_count) * 100\n",
    "math_above"
   ]
  },
  {
   "cell_type": "code",
   "execution_count": 66,
   "metadata": {},
   "outputs": [
    {
     "data": {
      "text/plain": [
       "99.34280910897142"
      ]
     },
     "execution_count": 66,
     "metadata": {},
     "output_type": "execute_result"
    }
   ],
   "source": [
    "#passing reading score of 70<\n",
    "read_above = ((len(city_schools.loc[city_schools[\"reading_score\"] > 70])) / student_count) * 100\n",
    "read_above"
   ]
  },
  {
   "cell_type": "code",
   "execution_count": 67,
   "metadata": {},
   "outputs": [
    {
     "data": {
      "text/html": [
       "<div>\n",
       "<style scoped>\n",
       "    .dataframe tbody tr th:only-of-type {\n",
       "        vertical-align: middle;\n",
       "    }\n",
       "\n",
       "    .dataframe tbody tr th {\n",
       "        vertical-align: top;\n",
       "    }\n",
       "\n",
       "    .dataframe thead th {\n",
       "        text-align: right;\n",
       "    }\n",
       "</style>\n",
       "<table border=\"1\" class=\"dataframe\">\n",
       "  <thead>\n",
       "    <tr style=\"text-align: right;\">\n",
       "      <th></th>\n",
       "      <th>Total schools</th>\n",
       "      <th>Total students</th>\n",
       "      <th>Total budget</th>\n",
       "      <th>Avg math score</th>\n",
       "      <th>Avg reading score</th>\n",
       "      <th>Overall passing %</th>\n",
       "      <th>Math passing %</th>\n",
       "      <th>reading passing %</th>\n",
       "    </tr>\n",
       "  </thead>\n",
       "  <tbody>\n",
       "    <tr>\n",
       "      <th>0</th>\n",
       "      <td>15</td>\n",
       "      <td>32715</td>\n",
       "      <td>$82,932,329,558.00</td>\n",
       "      <td>78.985371</td>\n",
       "      <td>81.87784</td>\n",
       "      <td>80.431606</td>\n",
       "      <td>86.675837</td>\n",
       "      <td>99.342809</td>\n",
       "    </tr>\n",
       "  </tbody>\n",
       "</table>\n",
       "</div>"
      ],
      "text/plain": [
       "   Total schools  Total students        Total budget  Avg math score  \\\n",
       "0             15           32715  $82,932,329,558.00       78.985371   \n",
       "\n",
       "   Avg reading score  Overall passing %  Math passing %  reading passing %  \n",
       "0           81.87784          80.431606       86.675837          99.342809  "
      ]
     },
     "execution_count": 67,
     "metadata": {},
     "output_type": "execute_result"
    }
   ],
   "source": [
    "#dataframe\n",
    "district_summary = pd.DataFrame({\"Total schools\": [school_count],\n",
    "                                 \"Total students\": [student_count],\n",
    "                                 \"Total budget\": [budget_sum],\n",
    "                                 \"Avg math score\": [math_sum],\n",
    "                                 \"Avg reading score\": [reading_sum],\n",
    "                                 \"Overall passing %\": [avg],\n",
    "                                 \"Math passing %\": [math_above],\n",
    "                                 \"reading passing %\": [read_above]\n",
    "                                })\n",
    "district_summary[\"Total budget\"] = district_summary[\"Total budget\"].map(\"${:,.2f}\".format)\n",
    "district_summary"
   ]
  },
  {
   "cell_type": "markdown",
   "metadata": {},
   "source": [
    "## School Summary"
   ]
  },
  {
   "cell_type": "markdown",
   "metadata": {},
   "source": [
    "* Create an overview table that summarizes key metrics about each school, including:\n",
    "  * School Name\n",
    "  * School Type\n",
    "  * Total Students\n",
    "  * Total School Budget\n",
    "  * Per Student Budget\n",
    "  * Average Math Score\n",
    "  * Average Reading Score\n",
    "  * % Passing Math\n",
    "  * % Passing Reading\n",
    "  * Overall Passing Rate (Average of the above two)\n",
    "  \n",
    "* Create a dataframe to hold the above results"
   ]
  },
  {
   "cell_type": "code",
   "execution_count": 68,
   "metadata": {},
   "outputs": [
    {
     "data": {
      "text/html": [
       "<div>\n",
       "<style scoped>\n",
       "    .dataframe tbody tr th:only-of-type {\n",
       "        vertical-align: middle;\n",
       "    }\n",
       "\n",
       "    .dataframe tbody tr th {\n",
       "        vertical-align: top;\n",
       "    }\n",
       "\n",
       "    .dataframe thead th {\n",
       "        text-align: right;\n",
       "    }\n",
       "</style>\n",
       "<table border=\"1\" class=\"dataframe\">\n",
       "  <thead>\n",
       "    <tr style=\"text-align: right;\">\n",
       "      <th></th>\n",
       "      <th>type</th>\n",
       "    </tr>\n",
       "    <tr>\n",
       "      <th>school_name</th>\n",
       "      <th></th>\n",
       "    </tr>\n",
       "  </thead>\n",
       "  <tbody>\n",
       "    <tr>\n",
       "      <th>Huang High School</th>\n",
       "      <td>District</td>\n",
       "    </tr>\n",
       "    <tr>\n",
       "      <th>Figueroa High School</th>\n",
       "      <td>District</td>\n",
       "    </tr>\n",
       "    <tr>\n",
       "      <th>Shelton High School</th>\n",
       "      <td>Charter</td>\n",
       "    </tr>\n",
       "    <tr>\n",
       "      <th>Hernandez High School</th>\n",
       "      <td>District</td>\n",
       "    </tr>\n",
       "    <tr>\n",
       "      <th>Griffin High School</th>\n",
       "      <td>Charter</td>\n",
       "    </tr>\n",
       "    <tr>\n",
       "      <th>Wilson High School</th>\n",
       "      <td>Charter</td>\n",
       "    </tr>\n",
       "    <tr>\n",
       "      <th>Cabrera High School</th>\n",
       "      <td>Charter</td>\n",
       "    </tr>\n",
       "    <tr>\n",
       "      <th>Bailey High School</th>\n",
       "      <td>District</td>\n",
       "    </tr>\n",
       "    <tr>\n",
       "      <th>Holden High School</th>\n",
       "      <td>Charter</td>\n",
       "    </tr>\n",
       "    <tr>\n",
       "      <th>Pena High School</th>\n",
       "      <td>Charter</td>\n",
       "    </tr>\n",
       "    <tr>\n",
       "      <th>Wright High School</th>\n",
       "      <td>Charter</td>\n",
       "    </tr>\n",
       "    <tr>\n",
       "      <th>Rodriguez High School</th>\n",
       "      <td>District</td>\n",
       "    </tr>\n",
       "    <tr>\n",
       "      <th>Johnson High School</th>\n",
       "      <td>District</td>\n",
       "    </tr>\n",
       "    <tr>\n",
       "      <th>Ford High School</th>\n",
       "      <td>District</td>\n",
       "    </tr>\n",
       "    <tr>\n",
       "      <th>Thomas High School</th>\n",
       "      <td>Charter</td>\n",
       "    </tr>\n",
       "  </tbody>\n",
       "</table>\n",
       "</div>"
      ],
      "text/plain": [
       "                           type\n",
       "school_name                    \n",
       "Huang High School      District\n",
       "Figueroa High School   District\n",
       "Shelton High School     Charter\n",
       "Hernandez High School  District\n",
       "Griffin High School     Charter\n",
       "Wilson High School      Charter\n",
       "Cabrera High School     Charter\n",
       "Bailey High School     District\n",
       "Holden High School      Charter\n",
       "Pena High School        Charter\n",
       "Wright High School      Charter\n",
       "Rodriguez High School  District\n",
       "Johnson High School    District\n",
       "Ford High School       District\n",
       "Thomas High School      Charter"
      ]
     },
     "execution_count": 68,
     "metadata": {},
     "output_type": "execute_result"
    }
   ],
   "source": [
    "#school name with their type\n",
    "# school_type =pd.DataFrame(city_schools.set_index([\"school_name\"])[\"type\"])\n",
    "# school_type\n",
    "\n",
    "school_name = pd.DataFrame(city_schools[[\"school_name\",\"type\"]])\n",
    "school_type= school_name.drop_duplicates().set_index(\"school_name\")\n",
    "school_type\n",
    "\n",
    "#school_name = city_schools.set_index(\"school_name\").groupby([\"school_name\"])\n",
    "#type = city_schools.set_index(\"school_name\")[\"type\"]\n",
    "#school_name"
   ]
  },
  {
   "cell_type": "code",
   "execution_count": 69,
   "metadata": {},
   "outputs": [
    {
     "data": {
      "text/plain": [
       "Bailey High School       4976\n",
       "Johnson High School      4761\n",
       "Hernandez High School    4635\n",
       "Rodriguez High School    3999\n",
       "Figueroa High School     2949\n",
       "Huang High School        2917\n",
       "Ford High School         2739\n",
       "Wilson High School       2283\n",
       "Cabrera High School      1858\n",
       "Wright High School       1800\n",
       "Shelton High School      1761\n",
       "Thomas High School       1635\n",
       "Griffin High School      1468\n",
       "Pena High School          962\n",
       "Holden High School        427\n",
       "Name: school_name, dtype: int64"
      ]
     },
     "execution_count": 69,
     "metadata": {},
     "output_type": "execute_result"
    }
   ],
   "source": [
    "#school with number of students per school\n",
    "students_per_school=city_schools[\"school_name\"].value_counts()\n",
    "students_per_school"
   ]
  },
  {
   "cell_type": "code",
   "execution_count": 70,
   "metadata": {},
   "outputs": [
    {
     "name": "stdout",
     "output_type": "stream",
     "text": [
      "school_name\n",
      "Bailey High School       3124928.0\n",
      "Cabrera High School      1081356.0\n",
      "Figueroa High School     1884411.0\n",
      "Ford High School         1763916.0\n",
      "Griffin High School       917500.0\n",
      "Hernandez High School    3022020.0\n",
      "Holden High School        248087.0\n",
      "Huang High School        1910635.0\n",
      "Johnson High School      3094650.0\n",
      "Pena High School          585858.0\n",
      "Rodriguez High School    2547363.0\n",
      "Shelton High School      1056600.0\n",
      "Thomas High School       1043130.0\n",
      "Wilson High School       1319574.0\n",
      "Wright High School       1049400.0\n",
      "Name: budget, dtype: float64\n"
     ]
    }
   ],
   "source": [
    "#school budget\n",
    "school_budget = city_schools.groupby([\"school_name\"]).mean()[\"budget\"]\n",
    "\n",
    "print (school_budget)"
   ]
  },
  {
   "cell_type": "code",
   "execution_count": 71,
   "metadata": {},
   "outputs": [
    {
     "name": "stdout",
     "output_type": "stream",
     "text": [
      "Bailey High School       628.0\n",
      "Cabrera High School      582.0\n",
      "Figueroa High School     639.0\n",
      "Ford High School         644.0\n",
      "Griffin High School      625.0\n",
      "Hernandez High School    652.0\n",
      "Holden High School       581.0\n",
      "Huang High School        655.0\n",
      "Johnson High School      650.0\n",
      "Pena High School         609.0\n",
      "Rodriguez High School    637.0\n",
      "Shelton High School      600.0\n",
      "Thomas High School       638.0\n",
      "Wilson High School       578.0\n",
      "Wright High School       583.0\n",
      "dtype: float64\n"
     ]
    }
   ],
   "source": [
    "#budget per student\n",
    "student_budget = school_budget/students_per_school\n",
    "print (student_budget)"
   ]
  },
  {
   "cell_type": "code",
   "execution_count": 72,
   "metadata": {},
   "outputs": [
    {
     "name": "stdout",
     "output_type": "stream",
     "text": [
      "school_name\n",
      "Bailey High School       77.048432\n",
      "Cabrera High School      83.061895\n",
      "Figueroa High School     76.711767\n",
      "Ford High School         77.102592\n",
      "Griffin High School      83.351499\n",
      "Hernandez High School    77.289752\n",
      "Holden High School       83.803279\n",
      "Huang High School        76.629414\n",
      "Johnson High School      77.072464\n",
      "Pena High School         83.839917\n",
      "Rodriguez High School    76.842711\n",
      "Shelton High School      83.359455\n",
      "Thomas High School       83.418349\n",
      "Wilson High School       83.274201\n",
      "Wright High School       83.682222\n",
      "Name: math_score, dtype: float64\n",
      "-----------------------\n",
      "school_name\n",
      "Bailey High School       81.033963\n",
      "Cabrera High School      83.975780\n",
      "Figueroa High School     81.158020\n",
      "Ford High School         80.746258\n",
      "Griffin High School      83.816757\n",
      "Hernandez High School    80.934412\n",
      "Holden High School       83.814988\n",
      "Huang High School        81.182722\n",
      "Johnson High School      80.966394\n",
      "Pena High School         84.044699\n",
      "Rodriguez High School    80.744686\n",
      "Shelton High School      83.725724\n",
      "Thomas High School       83.848930\n",
      "Wilson High School       83.989488\n",
      "Wright High School       83.955000\n",
      "Name: reading_score, dtype: float64\n"
     ]
    }
   ],
   "source": [
    "# avg test scores\n",
    "avg_school_math =city_schools.groupby([\"school_name\"]).mean()[\"math_score\"]\n",
    "avg_school_reading = city_schools.groupby ([\"school_name\"]).mean()[\"reading_score\"]\n",
    "\n",
    "print (avg_school_math)\n",
    "print (\"-----------------------\")\n",
    "print (avg_school_reading)"
   ]
  },
  {
   "cell_type": "code",
   "execution_count": 73,
   "metadata": {},
   "outputs": [
    {
     "name": "stdout",
     "output_type": "stream",
     "text": [
      "Bailey High School       64.630225\n",
      "Cabrera High School      89.558665\n",
      "Figueroa High School     63.750424\n",
      "Ford High School         65.753925\n",
      "Griffin High School      89.713896\n",
      "Hernandez High School    64.746494\n",
      "Holden High School       90.632319\n",
      "Huang High School        63.318478\n",
      "Johnson High School      63.852132\n",
      "Pena High School         91.683992\n",
      "Rodriguez High School    64.066017\n",
      "Shelton High School      89.892107\n",
      "Thomas High School       90.214067\n",
      "Wilson High School       90.932983\n",
      "Wright High School       90.277778\n",
      "dtype: float64\n",
      "-----------------------------------\n",
      "Bailey High School       79.300643\n",
      "Cabrera High School      93.864370\n",
      "Figueroa High School     78.433367\n",
      "Ford High School         77.510040\n",
      "Griffin High School      93.392371\n",
      "Hernandez High School    78.187702\n",
      "Holden High School       92.740047\n",
      "Huang High School        78.813850\n",
      "Johnson High School      78.281874\n",
      "Pena High School         92.203742\n",
      "Rodriguez High School    77.744436\n",
      "Shelton High School      92.617831\n",
      "Thomas High School       92.905199\n",
      "Wilson High School       93.254490\n",
      "Wright High School       93.444444\n",
      "dtype: float64\n"
     ]
    }
   ],
   "source": [
    "# math and reading over 70 per school\n",
    "passing_math = city_schools[(city_schools[\"math_score\"] > 70)]\n",
    "passing_reading = city_schools[(city_schools[\"reading_score\"] > 70)]\n",
    "\n",
    "#dividing passing_math (> 70) by student count per school\n",
    "school_passing_math = passing_math.groupby([\"school_name\"]).count()[\"student_name\"] / students_per_school * 100\n",
    "\n",
    "print (school_passing_math)\n",
    "\n",
    "print (\"-----------------------------------\")\n",
    "\n",
    "school_passing_reading = passing_reading.groupby([\"school_name\"]).count()[\"student_name\"] / students_per_school * 100\n",
    "print (school_passing_reading)"
   ]
  },
  {
   "cell_type": "code",
   "execution_count": 74,
   "metadata": {},
   "outputs": [
    {
     "name": "stdout",
     "output_type": "stream",
     "text": [
      "Bailey High School       104.280547\n",
      "Cabrera High School      136.490850\n",
      "Figueroa High School     102.967107\n",
      "Ford High School         104.508945\n",
      "Griffin High School      136.410082\n",
      "Hernandez High School    103.840345\n",
      "Holden High School       137.002342\n",
      "Huang High School        102.725403\n",
      "Johnson High School      102.993069\n",
      "Pena High School         137.785863\n",
      "Rodriguez High School    102.938235\n",
      "Shelton High School      136.201022\n",
      "Thomas High School       136.666667\n",
      "Wilson High School       137.560228\n",
      "Wright High School       137.000000\n",
      "dtype: float64\n"
     ]
    }
   ],
   "source": [
    "#total avg\n",
    "overall_passing_rate = school_passing_math + school_passing_reading / 2\n",
    "print(overall_passing_rate)"
   ]
  },
  {
   "cell_type": "code",
   "execution_count": 75,
   "metadata": {},
   "outputs": [
    {
     "data": {
      "text/html": [
       "<div>\n",
       "<style scoped>\n",
       "    .dataframe tbody tr th:only-of-type {\n",
       "        vertical-align: middle;\n",
       "    }\n",
       "\n",
       "    .dataframe tbody tr th {\n",
       "        vertical-align: top;\n",
       "    }\n",
       "\n",
       "    .dataframe thead th {\n",
       "        text-align: right;\n",
       "    }\n",
       "</style>\n",
       "<table border=\"1\" class=\"dataframe\">\n",
       "  <thead>\n",
       "    <tr style=\"text-align: right;\">\n",
       "      <th></th>\n",
       "      <th>School Name</th>\n",
       "      <th>Total Student per school</th>\n",
       "      <th>total Budget per school</th>\n",
       "      <th>Budget per student</th>\n",
       "      <th>Avg Math Score per school</th>\n",
       "      <th>Avg Reading Score per school</th>\n",
       "      <th>Schools passing math &gt;70</th>\n",
       "      <th>Schools passing reading &gt;70</th>\n",
       "      <th>Overall passing rate per school</th>\n",
       "    </tr>\n",
       "  </thead>\n",
       "  <tbody>\n",
       "    <tr>\n",
       "      <th>0</th>\n",
       "      <td>type\n",
       "school_name   ...</td>\n",
       "      <td>Bailey High School       4976\n",
       "Johnson High Sch...</td>\n",
       "      <td>school_name\n",
       "Bailey High School       3124928.0...</td>\n",
       "      <td>Bailey High School       628.0\n",
       "Cabrera High Sc...</td>\n",
       "      <td>school_name\n",
       "Bailey High School       77.048432...</td>\n",
       "      <td>school_name\n",
       "Bailey High School       81.033963...</td>\n",
       "      <td>Bailey High School       64.630225\n",
       "Cabrera Hig...</td>\n",
       "      <td>Bailey High School       79.300643\n",
       "Cabrera Hig...</td>\n",
       "      <td>Bailey High School       104.280547\n",
       "Cabrera Hi...</td>\n",
       "    </tr>\n",
       "  </tbody>\n",
       "</table>\n",
       "</div>"
      ],
      "text/plain": [
       "                                         School Name  \\\n",
       "0                             type\n",
       "school_name   ...   \n",
       "\n",
       "                            Total Student per school  \\\n",
       "0  Bailey High School       4976\n",
       "Johnson High Sch...   \n",
       "\n",
       "                             total Budget per school  \\\n",
       "0  school_name\n",
       "Bailey High School       3124928.0...   \n",
       "\n",
       "                                  Budget per student  \\\n",
       "0  Bailey High School       628.0\n",
       "Cabrera High Sc...   \n",
       "\n",
       "                           Avg Math Score per school  \\\n",
       "0  school_name\n",
       "Bailey High School       77.048432...   \n",
       "\n",
       "                        Avg Reading Score per school  \\\n",
       "0  school_name\n",
       "Bailey High School       81.033963...   \n",
       "\n",
       "                            Schools passing math >70  \\\n",
       "0  Bailey High School       64.630225\n",
       "Cabrera Hig...   \n",
       "\n",
       "                         Schools passing reading >70  \\\n",
       "0  Bailey High School       79.300643\n",
       "Cabrera Hig...   \n",
       "\n",
       "                     Overall passing rate per school  \n",
       "0  Bailey High School       104.280547\n",
       "Cabrera Hi...  "
      ]
     },
     "execution_count": 75,
     "metadata": {},
     "output_type": "execute_result"
    }
   ],
   "source": [
    "#dataframe for per school summary\n",
    "school_summary = pd.DataFrame({\"School Name\": [school_type],\n",
    "                               \"Total Student per school\": [students_per_school],\n",
    "                               \"total Budget per school\": [school_budget],\n",
    "                               \"Budget per student\": [student_budget],\n",
    "                               \"Avg Math Score per school\": [avg_school_math],\n",
    "                               \"Avg Reading Score per school\": [avg_school_reading],\n",
    "                               \"Schools passing math >70\": [school_passing_math],\n",
    "                               \"Schools passing reading >70\": [school_passing_reading],\n",
    "                               \"Overall passing rate per school\": [overall_passing_rate]\n",
    "                                  })\n",
    "school_summary"
   ]
  },
  {
   "cell_type": "markdown",
   "metadata": {},
   "source": [
    "## Top Performing Schools (By Passing Rate)"
   ]
  },
  {
   "cell_type": "markdown",
   "metadata": {},
   "source": [
    "* Sort and display the top five schools in overall passing rate"
   ]
  },
  {
   "cell_type": "code",
   "execution_count": 76,
   "metadata": {},
   "outputs": [
    {
     "data": {
      "text/html": [
       "<div>\n",
       "<style scoped>\n",
       "    .dataframe tbody tr th:only-of-type {\n",
       "        vertical-align: middle;\n",
       "    }\n",
       "\n",
       "    .dataframe tbody tr th {\n",
       "        vertical-align: top;\n",
       "    }\n",
       "\n",
       "    .dataframe thead th {\n",
       "        text-align: right;\n",
       "    }\n",
       "</style>\n",
       "<table border=\"1\" class=\"dataframe\">\n",
       "  <thead>\n",
       "    <tr style=\"text-align: right;\">\n",
       "      <th></th>\n",
       "      <th>School Name</th>\n",
       "      <th>Total Student per school</th>\n",
       "      <th>total Budget per school</th>\n",
       "      <th>Budget per student</th>\n",
       "      <th>Avg Math Score per school</th>\n",
       "      <th>Avg Reading Score per school</th>\n",
       "      <th>Schools passing math &gt;70</th>\n",
       "      <th>Schools passing reading &gt;70</th>\n",
       "      <th>Overall passing rate per school</th>\n",
       "    </tr>\n",
       "  </thead>\n",
       "  <tbody>\n",
       "    <tr>\n",
       "      <th>0</th>\n",
       "      <td>type\n",
       "school_name   ...</td>\n",
       "      <td>Bailey High School       4976\n",
       "Johnson High Sch...</td>\n",
       "      <td>school_name\n",
       "Bailey High School       3124928.0...</td>\n",
       "      <td>Bailey High School       628.0\n",
       "Cabrera High Sc...</td>\n",
       "      <td>school_name\n",
       "Bailey High School       77.048432...</td>\n",
       "      <td>school_name\n",
       "Bailey High School       81.033963...</td>\n",
       "      <td>Bailey High School       64.630225\n",
       "Cabrera Hig...</td>\n",
       "      <td>Bailey High School       79.300643\n",
       "Cabrera Hig...</td>\n",
       "      <td>Bailey High School       104.280547\n",
       "Cabrera Hi...</td>\n",
       "    </tr>\n",
       "  </tbody>\n",
       "</table>\n",
       "</div>"
      ],
      "text/plain": [
       "                                         School Name  \\\n",
       "0                             type\n",
       "school_name   ...   \n",
       "\n",
       "                            Total Student per school  \\\n",
       "0  Bailey High School       4976\n",
       "Johnson High Sch...   \n",
       "\n",
       "                             total Budget per school  \\\n",
       "0  school_name\n",
       "Bailey High School       3124928.0...   \n",
       "\n",
       "                                  Budget per student  \\\n",
       "0  Bailey High School       628.0\n",
       "Cabrera High Sc...   \n",
       "\n",
       "                           Avg Math Score per school  \\\n",
       "0  school_name\n",
       "Bailey High School       77.048432...   \n",
       "\n",
       "                        Avg Reading Score per school  \\\n",
       "0  school_name\n",
       "Bailey High School       81.033963...   \n",
       "\n",
       "                            Schools passing math >70  \\\n",
       "0  Bailey High School       64.630225\n",
       "Cabrera Hig...   \n",
       "\n",
       "                         Schools passing reading >70  \\\n",
       "0  Bailey High School       79.300643\n",
       "Cabrera Hig...   \n",
       "\n",
       "                     Overall passing rate per school  \n",
       "0  Bailey High School       104.280547\n",
       "Cabrera Hi...  "
      ]
     },
     "execution_count": 76,
     "metadata": {},
     "output_type": "execute_result"
    }
   ],
   "source": [
    "Top_schools = school_summary.sort_values([\"Overall passing rate per school\"], ascending=False)\n",
    "Top_schools"
   ]
  },
  {
   "cell_type": "markdown",
   "metadata": {},
   "source": [
    "## Bottom Performing Schools (By Passing Rate)"
   ]
  },
  {
   "cell_type": "markdown",
   "metadata": {},
   "source": [
    "* Sort and display the five worst-performing schools"
   ]
  },
  {
   "cell_type": "code",
   "execution_count": 77,
   "metadata": {},
   "outputs": [
    {
     "data": {
      "text/html": [
       "<div>\n",
       "<style scoped>\n",
       "    .dataframe tbody tr th:only-of-type {\n",
       "        vertical-align: middle;\n",
       "    }\n",
       "\n",
       "    .dataframe tbody tr th {\n",
       "        vertical-align: top;\n",
       "    }\n",
       "\n",
       "    .dataframe thead th {\n",
       "        text-align: right;\n",
       "    }\n",
       "</style>\n",
       "<table border=\"1\" class=\"dataframe\">\n",
       "  <thead>\n",
       "    <tr style=\"text-align: right;\">\n",
       "      <th></th>\n",
       "      <th>School Name</th>\n",
       "      <th>Total Student per school</th>\n",
       "      <th>total Budget per school</th>\n",
       "      <th>Budget per student</th>\n",
       "      <th>Avg Math Score per school</th>\n",
       "      <th>Avg Reading Score per school</th>\n",
       "      <th>Schools passing math &gt;70</th>\n",
       "      <th>Schools passing reading &gt;70</th>\n",
       "      <th>Overall passing rate per school</th>\n",
       "    </tr>\n",
       "  </thead>\n",
       "  <tbody>\n",
       "    <tr>\n",
       "      <th>0</th>\n",
       "      <td>type\n",
       "school_name   ...</td>\n",
       "      <td>Bailey High School       4976\n",
       "Johnson High Sch...</td>\n",
       "      <td>school_name\n",
       "Bailey High School       3124928.0...</td>\n",
       "      <td>Bailey High School       628.0\n",
       "Cabrera High Sc...</td>\n",
       "      <td>school_name\n",
       "Bailey High School       77.048432...</td>\n",
       "      <td>school_name\n",
       "Bailey High School       81.033963...</td>\n",
       "      <td>Bailey High School       64.630225\n",
       "Cabrera Hig...</td>\n",
       "      <td>Bailey High School       79.300643\n",
       "Cabrera Hig...</td>\n",
       "      <td>Bailey High School       104.280547\n",
       "Cabrera Hi...</td>\n",
       "    </tr>\n",
       "  </tbody>\n",
       "</table>\n",
       "</div>"
      ],
      "text/plain": [
       "                                         School Name  \\\n",
       "0                             type\n",
       "school_name   ...   \n",
       "\n",
       "                            Total Student per school  \\\n",
       "0  Bailey High School       4976\n",
       "Johnson High Sch...   \n",
       "\n",
       "                             total Budget per school  \\\n",
       "0  school_name\n",
       "Bailey High School       3124928.0...   \n",
       "\n",
       "                                  Budget per student  \\\n",
       "0  Bailey High School       628.0\n",
       "Cabrera High Sc...   \n",
       "\n",
       "                           Avg Math Score per school  \\\n",
       "0  school_name\n",
       "Bailey High School       77.048432...   \n",
       "\n",
       "                        Avg Reading Score per school  \\\n",
       "0  school_name\n",
       "Bailey High School       81.033963...   \n",
       "\n",
       "                            Schools passing math >70  \\\n",
       "0  Bailey High School       64.630225\n",
       "Cabrera Hig...   \n",
       "\n",
       "                         Schools passing reading >70  \\\n",
       "0  Bailey High School       79.300643\n",
       "Cabrera Hig...   \n",
       "\n",
       "                     Overall passing rate per school  \n",
       "0  Bailey High School       104.280547\n",
       "Cabrera Hi...  "
      ]
     },
     "execution_count": 77,
     "metadata": {},
     "output_type": "execute_result"
    }
   ],
   "source": [
    "Bottom_schools = school_summary.sort_values([\"Overall passing rate per school\"], ascending=True)\n",
    "Bottom_schools.head()"
   ]
  },
  {
   "cell_type": "markdown",
   "metadata": {},
   "source": [
    "## Math Scores by Grade"
   ]
  },
  {
   "cell_type": "markdown",
   "metadata": {},
   "source": [
    "* Create a table that lists the average Reading Score for students of each grade level (9th, 10th, 11th, 12th) at each school.\n",
    "\n",
    "  * Create a pandas series for each grade. Hint: use a conditional statement.\n",
    "  \n",
    "  * Group each series by school\n",
    "  \n",
    "  * Combine the series into a dataframe\n",
    "  \n",
    "  * Optional: give the displayed data cleaner formatting"
   ]
  },
  {
   "cell_type": "code",
   "execution_count": 78,
   "metadata": {},
   "outputs": [],
   "source": [
    "#avg math score for each grade level\n",
    "all_nineth_graders = city_schools[(city_schools[\"grade\"] == \"9th\")]\n",
    "all_tenth_graders = city_schools[(city_schools[\"grade\"] == \"10th\")]\n",
    "all_eleventh_graders = city_schools[(city_schools[\"grade\"] == \"11th\")]\n",
    "all_twelfth_graders = city_schools[(city_schools[\"grade\"] == \"12th\")]\n",
    "\n",
    "#all_nineth_graders.head()"
   ]
  },
  {
   "cell_type": "code",
   "execution_count": 79,
   "metadata": {},
   "outputs": [],
   "source": [
    "#group each grade series by school\n",
    "math_nineth_graders = all_nineth_graders.groupby([\"school_name\"]).mean()[\"math_score\"]\n",
    "math_tenth_graders = all_tenth_graders.groupby([\"school_name\"]).mean()[\"math_score\"]\n",
    "math_eleventh_graders = all_eleventh_graders.groupby([\"school_name\"]).mean()[\"math_score\"]\n",
    "math_twelfth_graders = all_twelfth_graders.groupby([\"school_name\"]).mean()[\"math_score\"]\n",
    "\n",
    "#math_nineth_graders.head()"
   ]
  },
  {
   "cell_type": "code",
   "execution_count": 80,
   "metadata": {},
   "outputs": [
    {
     "data": {
      "text/html": [
       "<div>\n",
       "<style scoped>\n",
       "    .dataframe tbody tr th:only-of-type {\n",
       "        vertical-align: middle;\n",
       "    }\n",
       "\n",
       "    .dataframe tbody tr th {\n",
       "        vertical-align: top;\n",
       "    }\n",
       "\n",
       "    .dataframe thead th {\n",
       "        text-align: right;\n",
       "    }\n",
       "</style>\n",
       "<table border=\"1\" class=\"dataframe\">\n",
       "  <thead>\n",
       "    <tr style=\"text-align: right;\">\n",
       "      <th></th>\n",
       "      <th>9th</th>\n",
       "      <th>10th</th>\n",
       "      <th>11th</th>\n",
       "      <th>12th</th>\n",
       "    </tr>\n",
       "  </thead>\n",
       "  <tbody>\n",
       "    <tr>\n",
       "      <th>0</th>\n",
       "      <td>Student ID        student_name gender g...</td>\n",
       "      <td>Student ID         student_name gender ...</td>\n",
       "      <td>Student ID          student_name gender...</td>\n",
       "      <td>Student ID         student_name gender ...</td>\n",
       "    </tr>\n",
       "  </tbody>\n",
       "</table>\n",
       "</div>"
      ],
      "text/plain": [
       "                                                 9th  \\\n",
       "0         Student ID        student_name gender g...   \n",
       "\n",
       "                                                10th  \\\n",
       "0         Student ID         student_name gender ...   \n",
       "\n",
       "                                                11th  \\\n",
       "0         Student ID          student_name gender...   \n",
       "\n",
       "                                                12th  \n",
       "0         Student ID         student_name gender ...  "
      ]
     },
     "execution_count": 80,
     "metadata": {},
     "output_type": "execute_result"
    }
   ],
   "source": [
    "math_by_grade = pd.DataFrame({\"9th\":[all_nineth_graders],\n",
    "                            \"10th\":[all_tenth_graders],\n",
    "                            \"11th\":[all_eleventh_graders],\n",
    "                            \"12th\":[all_twelfth_graders]\n",
    "                            })\n",
    "math_by_grade"
   ]
  },
  {
   "cell_type": "markdown",
   "metadata": {},
   "source": [
    "## Reading Score by Grade "
   ]
  },
  {
   "cell_type": "markdown",
   "metadata": {},
   "source": [
    "* Perform the same operations as above for reading scores"
   ]
  },
  {
   "cell_type": "code",
   "execution_count": 81,
   "metadata": {},
   "outputs": [],
   "source": [
    "#reading grades by grade\n",
    "all_nineth_graders = city_schools[(city_schools[\"grade\"] == \"9th\")]\n",
    "all_tenth_graders = city_schools[(city_schools[\"grade\"] == \"10th\")]\n",
    "all_eleventh_graders = city_schools[(city_schools[\"grade\"] == \"11th\")]\n",
    "all_twelfth_graders = city_schools[(city_schools[\"grade\"] == \"12th\")]\n",
    "\n",
    "#all_nineth_graders.head()"
   ]
  },
  {
   "cell_type": "code",
   "execution_count": 82,
   "metadata": {},
   "outputs": [],
   "source": [
    "# Group each by school name\n",
    "reading_nineth_graders_scores = all_nineth_graders.groupby([\"school_name\"]).mean()[\"reading_score\"]\n",
    "\n",
    "reading_tenth_graders_scores = all_tenth_graders.groupby([\"school_name\"]).mean()[\"reading_score\"]\n",
    "reading_eleventh_graders_scores = all_eleventh_graders.groupby([\"school_name\"]).mean()[\"reading_score\"]\n",
    "reading_twelfth_graders_scores = all_twelfth_graders.groupby([\"school_name\"]).mean()[\"reading_score\"]\n",
    "\n",
    "#reading_nineth_graders_scores.head()"
   ]
  },
  {
   "cell_type": "code",
   "execution_count": 83,
   "metadata": {},
   "outputs": [
    {
     "data": {
      "text/html": [
       "<div>\n",
       "<style scoped>\n",
       "    .dataframe tbody tr th:only-of-type {\n",
       "        vertical-align: middle;\n",
       "    }\n",
       "\n",
       "    .dataframe tbody tr th {\n",
       "        vertical-align: top;\n",
       "    }\n",
       "\n",
       "    .dataframe thead th {\n",
       "        text-align: right;\n",
       "    }\n",
       "</style>\n",
       "<table border=\"1\" class=\"dataframe\">\n",
       "  <thead>\n",
       "    <tr style=\"text-align: right;\">\n",
       "      <th></th>\n",
       "      <th>9th</th>\n",
       "      <th>10th</th>\n",
       "      <th>11th</th>\n",
       "      <th>12th</th>\n",
       "    </tr>\n",
       "  </thead>\n",
       "  <tbody>\n",
       "    <tr>\n",
       "      <th>0</th>\n",
       "      <td>school_name\n",
       "Bailey High School       81.303155...</td>\n",
       "      <td>school_name\n",
       "Bailey High School       80.907183...</td>\n",
       "      <td>school_name\n",
       "Bailey High School       80.945643...</td>\n",
       "      <td>school_name\n",
       "Bailey High School       80.912451...</td>\n",
       "    </tr>\n",
       "  </tbody>\n",
       "</table>\n",
       "</div>"
      ],
      "text/plain": [
       "                                                 9th  \\\n",
       "0  school_name\n",
       "Bailey High School       81.303155...   \n",
       "\n",
       "                                                10th  \\\n",
       "0  school_name\n",
       "Bailey High School       80.907183...   \n",
       "\n",
       "                                                11th  \\\n",
       "0  school_name\n",
       "Bailey High School       80.945643...   \n",
       "\n",
       "                                                12th  \n",
       "0  school_name\n",
       "Bailey High School       80.912451...  "
      ]
     },
     "execution_count": 83,
     "metadata": {},
     "output_type": "execute_result"
    }
   ],
   "source": [
    "reading_by_grade=pd.DataFrame({\"9th\":[reading_nineth_graders_scores],\n",
    "                 \"10th\":[reading_tenth_graders_scores],\n",
    "                  \"11th\":[reading_eleventh_graders_scores],\n",
    "                  \"12th\":[reading_twelfth_graders_scores]\n",
    "                 })\n",
    "reading_by_grade"
   ]
  },
  {
   "cell_type": "markdown",
   "metadata": {},
   "source": [
    "## Scores by School Spending"
   ]
  },
  {
   "cell_type": "markdown",
   "metadata": {},
   "source": [
    "* Create a table that breaks down school performances based on average Spending Ranges (Per Student). Use 4 reasonable bins to group school spending. Include in the table each of the following:\n",
    "  * Average Math Score\n",
    "  * Average Reading Score\n",
    "  * % Passing Math\n",
    "  * % Passing Reading\n",
    "  * Overall Passing Rate (Average of the above two)"
   ]
  },
  {
   "cell_type": "code",
   "execution_count": 84,
   "metadata": {},
   "outputs": [
    {
     "data": {
      "text/html": [
       "<div>\n",
       "<style scoped>\n",
       "    .dataframe tbody tr th:only-of-type {\n",
       "        vertical-align: middle;\n",
       "    }\n",
       "\n",
       "    .dataframe tbody tr th {\n",
       "        vertical-align: top;\n",
       "    }\n",
       "\n",
       "    .dataframe thead th {\n",
       "        text-align: right;\n",
       "    }\n",
       "</style>\n",
       "<table border=\"1\" class=\"dataframe\">\n",
       "  <thead>\n",
       "    <tr style=\"text-align: right;\">\n",
       "      <th></th>\n",
       "      <th>School Name</th>\n",
       "      <th>Total Student per school</th>\n",
       "      <th>total Budget per school</th>\n",
       "      <th>Budget per student</th>\n",
       "      <th>Avg Math Score per school</th>\n",
       "      <th>Avg Reading Score per school</th>\n",
       "      <th>Schools passing math &gt;70</th>\n",
       "      <th>Schools passing reading &gt;70</th>\n",
       "      <th>Overall passing rate per school</th>\n",
       "    </tr>\n",
       "  </thead>\n",
       "  <tbody>\n",
       "    <tr>\n",
       "      <th>0</th>\n",
       "      <td>type\n",
       "school_name   ...</td>\n",
       "      <td>Bailey High School       4976\n",
       "Johnson High Sch...</td>\n",
       "      <td>school_name\n",
       "Bailey High School       3124928.0...</td>\n",
       "      <td>Bailey High School       628.0\n",
       "Cabrera High Sc...</td>\n",
       "      <td>school_name\n",
       "Bailey High School       77.048432...</td>\n",
       "      <td>school_name\n",
       "Bailey High School       81.033963...</td>\n",
       "      <td>Bailey High School       64.630225\n",
       "Cabrera Hig...</td>\n",
       "      <td>Bailey High School       79.300643\n",
       "Cabrera Hig...</td>\n",
       "      <td>Bailey High School       104.280547\n",
       "Cabrera Hi...</td>\n",
       "    </tr>\n",
       "  </tbody>\n",
       "</table>\n",
       "</div>"
      ],
      "text/plain": [
       "                                         School Name  \\\n",
       "0                             type\n",
       "school_name   ...   \n",
       "\n",
       "                            Total Student per school  \\\n",
       "0  Bailey High School       4976\n",
       "Johnson High Sch...   \n",
       "\n",
       "                             total Budget per school  \\\n",
       "0  school_name\n",
       "Bailey High School       3124928.0...   \n",
       "\n",
       "                                  Budget per student  \\\n",
       "0  Bailey High School       628.0\n",
       "Cabrera High Sc...   \n",
       "\n",
       "                           Avg Math Score per school  \\\n",
       "0  school_name\n",
       "Bailey High School       77.048432...   \n",
       "\n",
       "                        Avg Reading Score per school  \\\n",
       "0  school_name\n",
       "Bailey High School       81.033963...   \n",
       "\n",
       "                            Schools passing math >70  \\\n",
       "0  Bailey High School       64.630225\n",
       "Cabrera Hig...   \n",
       "\n",
       "                         Schools passing reading >70  \\\n",
       "0  Bailey High School       79.300643\n",
       "Cabrera Hig...   \n",
       "\n",
       "                     Overall passing rate per school  \n",
       "0  Bailey High School       104.280547\n",
       "Cabrera Hi...  "
      ]
     },
     "execution_count": 84,
     "metadata": {},
     "output_type": "execute_result"
    }
   ],
   "source": [
    "school_summary.head()"
   ]
  },
  {
   "cell_type": "code",
   "execution_count": 85,
   "metadata": {},
   "outputs": [],
   "source": [
    "# Sample bins. Feel free to create your own bins.\n",
    "spending_bins = [0, 585, 615, 645, 675]\n",
    "group_names = [\"<$585\", \"$585-615\", \"$615-645\", \"$645-675\"]"
   ]
  },
  {
   "cell_type": "code",
   "execution_count": 86,
   "metadata": {},
   "outputs": [
    {
     "ename": "ValueError",
     "evalue": "The truth value of a Series is ambiguous. Use a.empty, a.bool(), a.item(), a.any() or a.all().",
     "output_type": "error",
     "traceback": [
      "\u001b[1;31m---------------------------------------------------------------------------\u001b[0m",
      "\u001b[1;31mValueError\u001b[0m                                Traceback (most recent call last)",
      "\u001b[1;32m<ipython-input-86-625f12659a18>\u001b[0m in \u001b[0;36m<module>\u001b[1;34m\u001b[0m\n\u001b[0;32m      1\u001b[0m school_summary[\"Budget per student\"]=pd.cut(school_summary\n\u001b[0;32m      2\u001b[0m                                                        \u001b[1;33m[\u001b[0m\u001b[1;34m\"total Budget per school\"\u001b[0m\u001b[1;33m]\u001b[0m \u001b[1;33m/\u001b[0m\u001b[0mschool_summary\u001b[0m\u001b[1;33m\u001b[0m\u001b[1;33m\u001b[0m\u001b[0m\n\u001b[1;32m----> 3\u001b[1;33m                                                        [\"Total Student per school\"], spending_bins , labels=group_names)\n\u001b[0m\u001b[0;32m      4\u001b[0m \u001b[0mschool_summary\u001b[0m\u001b[1;33m\u001b[0m\u001b[1;33m\u001b[0m\u001b[0m\n",
      "\u001b[1;32m~\\Anaconda3\\lib\\site-packages\\pandas\\core\\reshape\\tile.py\u001b[0m in \u001b[0;36mcut\u001b[1;34m(x, bins, right, labels, retbins, precision, include_lowest, duplicates)\u001b[0m\n\u001b[0;32m    239\u001b[0m                               \u001b[0minclude_lowest\u001b[0m\u001b[1;33m=\u001b[0m\u001b[0minclude_lowest\u001b[0m\u001b[1;33m,\u001b[0m\u001b[1;33m\u001b[0m\u001b[1;33m\u001b[0m\u001b[0m\n\u001b[0;32m    240\u001b[0m                               \u001b[0mdtype\u001b[0m\u001b[1;33m=\u001b[0m\u001b[0mdtype\u001b[0m\u001b[1;33m,\u001b[0m\u001b[1;33m\u001b[0m\u001b[1;33m\u001b[0m\u001b[0m\n\u001b[1;32m--> 241\u001b[1;33m                               duplicates=duplicates)\n\u001b[0m\u001b[0;32m    242\u001b[0m \u001b[1;33m\u001b[0m\u001b[0m\n\u001b[0;32m    243\u001b[0m     return _postprocess_for_cut(fac, bins, retbins, x_is_series,\n",
      "\u001b[1;32m~\\Anaconda3\\lib\\site-packages\\pandas\\core\\reshape\\tile.py\u001b[0m in \u001b[0;36m_bins_to_cuts\u001b[1;34m(x, bins, right, labels, precision, include_lowest, dtype, duplicates)\u001b[0m\n\u001b[0;32m    342\u001b[0m \u001b[1;33m\u001b[0m\u001b[0m\n\u001b[0;32m    343\u001b[0m     \u001b[0mside\u001b[0m \u001b[1;33m=\u001b[0m \u001b[1;34m'left'\u001b[0m \u001b[1;32mif\u001b[0m \u001b[0mright\u001b[0m \u001b[1;32melse\u001b[0m \u001b[1;34m'right'\u001b[0m\u001b[1;33m\u001b[0m\u001b[1;33m\u001b[0m\u001b[0m\n\u001b[1;32m--> 344\u001b[1;33m     \u001b[0mids\u001b[0m \u001b[1;33m=\u001b[0m \u001b[0mensure_int64\u001b[0m\u001b[1;33m(\u001b[0m\u001b[0mbins\u001b[0m\u001b[1;33m.\u001b[0m\u001b[0msearchsorted\u001b[0m\u001b[1;33m(\u001b[0m\u001b[0mx\u001b[0m\u001b[1;33m,\u001b[0m \u001b[0mside\u001b[0m\u001b[1;33m=\u001b[0m\u001b[0mside\u001b[0m\u001b[1;33m)\u001b[0m\u001b[1;33m)\u001b[0m\u001b[1;33m\u001b[0m\u001b[1;33m\u001b[0m\u001b[0m\n\u001b[0m\u001b[0;32m    345\u001b[0m \u001b[1;33m\u001b[0m\u001b[0m\n\u001b[0;32m    346\u001b[0m     \u001b[1;32mif\u001b[0m \u001b[0minclude_lowest\u001b[0m\u001b[1;33m:\u001b[0m\u001b[1;33m\u001b[0m\u001b[1;33m\u001b[0m\u001b[0m\n",
      "\u001b[1;32m~\\Anaconda3\\lib\\site-packages\\pandas\\core\\generic.py\u001b[0m in \u001b[0;36m__nonzero__\u001b[1;34m(self)\u001b[0m\n\u001b[0;32m   1476\u001b[0m         raise ValueError(\"The truth value of a {0} is ambiguous. \"\n\u001b[0;32m   1477\u001b[0m                          \u001b[1;34m\"Use a.empty, a.bool(), a.item(), a.any() or a.all().\"\u001b[0m\u001b[1;33m\u001b[0m\u001b[1;33m\u001b[0m\u001b[0m\n\u001b[1;32m-> 1478\u001b[1;33m                          .format(self.__class__.__name__))\n\u001b[0m\u001b[0;32m   1479\u001b[0m \u001b[1;33m\u001b[0m\u001b[0m\n\u001b[0;32m   1480\u001b[0m     \u001b[0m__bool__\u001b[0m \u001b[1;33m=\u001b[0m \u001b[0m__nonzero__\u001b[0m\u001b[1;33m\u001b[0m\u001b[1;33m\u001b[0m\u001b[0m\n",
      "\u001b[1;31mValueError\u001b[0m: The truth value of a Series is ambiguous. Use a.empty, a.bool(), a.item(), a.any() or a.all()."
     ]
    }
   ],
   "source": [
    "school_summary[\"Budget per student\"]=pd.cut(school_summary\n",
    "                                                       [\"total Budget per school\"] /school_summary\n",
    "                                                       [\"Total Student per school\"], spending_bins , labels=group_names)\n",
    "school_summary"
   ]
  },
  {
   "cell_type": "markdown",
   "metadata": {},
   "source": [
    "## Scores by School Size"
   ]
  },
  {
   "cell_type": "markdown",
   "metadata": {},
   "source": [
    "* Perform the same operations as above, based on school size."
   ]
  },
  {
   "cell_type": "code",
   "execution_count": null,
   "metadata": {},
   "outputs": [],
   "source": [
    "# Sample bins. Feel free to create your own bins.\n",
    "size_bins = [0, 1000, 2000, 5000]\n",
    "group_names = [\"Small (<1000)\", \"Medium (1000-2000)\", \"Large (2000-5000)\"]"
   ]
  },
  {
   "cell_type": "code",
   "execution_count": null,
   "metadata": {
    "scrolled": true
   },
   "outputs": [],
   "source": []
  },
  {
   "cell_type": "markdown",
   "metadata": {},
   "source": [
    "## Scores by School Type"
   ]
  },
  {
   "cell_type": "markdown",
   "metadata": {},
   "source": [
    "* Perform the same operations as above, based on school type."
   ]
  },
  {
   "cell_type": "code",
   "execution_count": null,
   "metadata": {},
   "outputs": [],
   "source": [
    "scores_by_type = school_summary.drop(columns=[\"Total Student per school\", \"total Budget per school\", \"Budget per student\"])\n",
    "scores_by_type"
   ]
  },
  {
   "cell_type": "code",
   "execution_count": null,
   "metadata": {},
   "outputs": [],
   "source": [
    "school_types = scores_by_type.groupby([\"School Type\"])\n",
    "school_types"
   ]
  },
  {
   "cell_type": "code",
   "execution_count": null,
   "metadata": {},
   "outputs": [],
   "source": []
  }
 ],
 "metadata": {
  "anaconda-cloud": {},
  "kernel_info": {
   "name": "python3"
  },
  "kernelspec": {
   "display_name": "Python 3",
   "language": "python",
   "name": "python3"
  },
  "language_info": {
   "codemirror_mode": {
    "name": "ipython",
    "version": 3
   },
   "file_extension": ".py",
   "mimetype": "text/x-python",
   "name": "python",
   "nbconvert_exporter": "python",
   "pygments_lexer": "ipython3",
   "version": "3.7.3"
  },
  "nteract": {
   "version": "0.8.4"
  }
 },
 "nbformat": 4,
 "nbformat_minor": 2
}
